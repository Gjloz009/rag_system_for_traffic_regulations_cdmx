{
 "cells": [
  {
   "cell_type": "code",
   "execution_count": 1,
   "id": "bd34d50c-1766-4ed4-84aa-5159f87b7359",
   "metadata": {},
   "outputs": [],
   "source": [
    "import pdfplumber\n"
   ]
  },
  {
   "cell_type": "code",
   "execution_count": 144,
   "id": "b8756209-04a2-4227-99dd-d42f4a45ab99",
   "metadata": {},
   "outputs": [],
   "source": [
    "url = \"./Reglamento-de-Transito-CDMX.pdf\"\n",
    "\n",
    "table_settings = {\n",
    "    \"vertical_strategy\": \"lines\",\n",
    "    \"horizontal_strategy\": \"lines\",\n",
    "    \"snap_x_tolerance\": 10,\n",
    "    #\"intersection_x_tolerance\": 15,\n",
    "}\n",
    "\n",
    "beta = {}\n"
   ]
  },
  {
   "cell_type": "code",
   "execution_count": 145,
   "id": "6892f61a-312c-46c4-978c-34b681ce7156",
   "metadata": {},
   "outputs": [],
   "source": [
    "\n",
    "with pdfplumber.open(url) as pdf:\n",
    "    alpha = [page.extract_text(keep_blank_chars=True) for page in pdf.pages]\n",
    "    for page in pdf.pages:\n",
    "        table = page.find_table()\n",
    "        if table is not None:\n",
    "            beta[page.page_number] = (page.crop(table.bbox),page.extract_table(table_settings))\n",
    "            "
   ]
  },
  {
   "cell_type": "code",
   "execution_count": 121,
   "id": "3b31fbfa-aff2-4e7b-a6e0-e3ff491d9f9e",
   "metadata": {},
   "outputs": [
    {
     "data": {
      "image/png": "[encoded data removed]",
      "text/plain": [
       "<pdfplumber.display.PageImage at 0x7fb2e2ed3810>"
      ]
     },
     "execution_count": 121,
     "metadata": {},
     "output_type": "execute_result"
    }
   ],
   "source": [
    "x[68].to_image().debug_tablefinder(table_settings)"
   ]
  },
  {
   "cell_type": "code",
   "execution_count": 148,
   "id": "1fc60f99-25d7-4de9-b887-055b796eabf1",
   "metadata": {
    "collapsed": true,
    "jupyter": {
     "outputs_hidden": true
    }
   },
   "outputs": [
    {
     "name": "stdout",
     "output_type": "stream",
     "text": [
      " \n",
      "PUBLICADO EN LA GACETA OFICIAL DEL DISTRITO FEDERAL \n",
      "EL 17 DE AGOSTO DE 2015 \n",
      " \n",
      "TEXTO VIGENTE \n",
      " \n",
      "Última reforma publicada en la G.O. CDMX  \n",
      "el 10 de agosto de 2023 \n",
      " \n",
      "MIGUEL ÁNGEL MANCERA ESPINOSA, Jefe de Gobierno del Distrito Federal, con fundamento en los \n",
      "artículos 122, Apartado C, Base Segunda, fracción II, inciso b), de la Constitución Política de los Estados \n",
      "Unidos Mexicanos; 8º, fracción II, 67, fracción II y 90 del Estatuto de Gobierno del Distrito Federal; 12, 14 y \n",
      "15 fracción I, IV, VIII, IX, X, 23, 26, 30 y 31  de la Ley Orgánica de la Administración Pública del Distrito Federal; \n",
      "y 68, 198, 251 y 252 de la Ley de Movilidad del Distrito Federal; artículo 2, fracción III de la Ley de Seguridad \n",
      "Pública del Distrito Federal, artículos 3°, 26 y 34 de la Ley Orgánica de la Secretaría de Seguridad Pública \n",
      "del Distrito Federal, he tenido a bien expedir el siguiente: \n",
      " \n",
      "REGLAMENTO DE TRÁNSITO DE LA CIUDAD DE MÉXICO \n",
      " \n",
      "TÍTULO PRIMERO \n",
      "DISPOSICIONES GENERALES \n",
      " \n",
      "CAPÍTULO I \n",
      "DEL OBJETO Y CONCEPTOS GENERALES \n",
      " \n",
      "Artículo 1.- El presente reglamento tiene por objeto regular la circulación de peatones y vehículos en la vía \n",
      "pública y la seguridad vial en la Ciudad de México.  \n",
      " \n",
      "Las disposiciones de este reglamento son aplicables a peatones, ciclistas, conductores, pasajeros y \n",
      "propietarios de cualquier tipo de vehículo matriculado en el país o el extranjero y que circule en el territorio \n",
      "de la Ciudad de México. En el presente ordenamiento se establecen las normas respecto a sus movimientos \n",
      "y estacionamiento, en observancia a lo establecido en las leyes, reglamentos, acuerdos, decretos y \n",
      "normatividad local vigente, así como las maniobras de ascenso y descenso de pasajeros o de carga y \n",
      "descarga. De igual forma, determina las condiciones legales y de seguridad a las que se deben ajustar los \n",
      "vehículos y sus conductores para su circulación, y establece los esquemas de sanciones por la comisión de \n",
      "infracciones a los preceptos contenidos en el presente reglamento.  \n",
      " \n",
      "Corresponde a la Secretaría de Seguridad Ciudadana aplicar sanciones por infracciones a las disposiciones \n",
      "de este Reglamento. Corresponde a la Consejería Jurídica y de Servicios Legales, mediante la Dirección \n",
      "Ejecutiva de Justicia Cívica, supervisar el cumplimiento de los trabajos a favor de la comunidad.  \n",
      " \n",
      "En todo lo no previsto en el presente ordenamiento se aplicará de manera supletoria las disposiciones \n",
      "contenidas en la Ley de Movilidad de la Ciudad de México, en la Ley de Cultura Cívica de la Ciudad de México, \n",
      "Reglamento de la Ley de Cultura Cívica vigente en la Ciudad de México, en los programas ambientales y de \n",
      "seguridad vial. \n",
      " \n",
      "Artículo 2.- La aplicación de este reglamento estará basada en los siguientes principios rectores: \n",
      " \n",
      " \n",
      " \n",
      " \n"
     ]
    }
   ],
   "source": [
    "print(alpha[0])"
   ]
  },
  {
   "cell_type": "code",
   "execution_count": 151,
   "id": "75a6287a-1bf9-417b-baf5-04f5b18bf768",
   "metadata": {},
   "outputs": [
    {
     "data": {
      "text/plain": [
       "dict_keys([10, 11, 67, 68, 132])"
      ]
     },
     "execution_count": 151,
     "metadata": {},
     "output_type": "execute_result"
    }
   ],
   "source": [
    "beta.keys()"
   ]
  },
  {
   "cell_type": "code",
   "execution_count": 185,
   "id": "6bb510d7-f3d8-4024-9048-9bd34cc5994c",
   "metadata": {},
   "outputs": [],
   "source": [
    "\n",
    "for i, outer_list in enumerate(beta[10][1]):\n",
    "    for j, inner_list in enumerate(outer_list):\n",
    "        beta[10][1][i][j] = inner_list.replace(\"\\n\", \" \")\n",
    "        \n",
    "for i, outer_list in enumerate(beta[11][1]):\n",
    "    for j, inner_list in enumerate(outer_list):\n",
    "        beta[11][1][i][j] = inner_list.replace(\"\\n\", \" \")\n",
    "        \n",
    "for i, outer_list in enumerate(beta[67][1]):\n",
    "    for j, inner_list in enumerate(outer_list):\n",
    "        beta[67][1][i][j] = inner_list.replace(\"\\n\", \" \")\n",
    "\n",
    "for i, outer_list in enumerate(beta[68][1]):\n",
    "    for j, inner_list in enumerate(outer_list):\n",
    "        beta[68][1][i][j] = inner_list.replace(\"\\n\", \" \")\n",
    "\n",
    "for i, outer_list in enumerate(beta[132][1]):\n",
    "    for j, inner_list in enumerate(outer_list):\n",
    "        beta[132][1][i][j] = inner_list.replace(\"\\n\", \" \")"
   ]
  },
  {
   "cell_type": "code",
   "execution_count": 182,
   "id": "283850e3-81ee-4a72-a6a7-64756d3256ba",
   "metadata": {},
   "outputs": [
    {
     "data": {
      "text/plain": [
       "[['Tipo de vehículo',\n",
       "  'Sanción con multa equivalente en veces la Unidad de Medida y Actualización vigente',\n",
       "  'Sanción mínima',\n",
       "  'Sanción media',\n",
       "  'Sanción máxima',\n",
       "  'Sanción con puntos de penalización en licencia para conducir'],\n",
       " ['Conductores de vehículos',\n",
       "  '10 a 20 veces',\n",
       "  '10 veces',\n",
       "  '15 veces',\n",
       "  '20 veces',\n",
       "  '3 puntos']]"
      ]
     },
     "execution_count": 182,
     "metadata": {},
     "output_type": "execute_result"
    }
   ],
   "source": [
    "beta[10][1]"
   ]
  },
  {
   "cell_type": "code",
   "execution_count": 154,
   "id": "b63f29e2-cb53-469f-93d8-66900ee03919",
   "metadata": {},
   "outputs": [],
   "source": [
    "import pandas as pd"
   ]
  },
  {
   "cell_type": "code",
   "execution_count": 186,
   "id": "e5d3ecf3-5c67-40a7-aeb5-c22bd8716e58",
   "metadata": {},
   "outputs": [],
   "source": [
    "df = pd.DataFrame(beta[10][1][1:],columns=beta[10][1][0])\n",
    "df_2 = pd.DataFrame(beta[11][1][0:],columns=beta[10][1][0])\n",
    "df_3 = pd.DataFrame(beta[67][1][1:],columns=beta[67][1][0])\n",
    "df_4 = pd.DataFrame(beta[68][1][0:],columns=beta[67][1][0])\n",
    "df_5 = pd.DataFrame(beta[132][1][1:],columns=beta[132][1][0])"
   ]
  },
  {
   "cell_type": "code",
   "execution_count": 187,
   "id": "c51955fd-e7db-43af-85e9-bb2e1ffebb40",
   "metadata": {},
   "outputs": [
    {
     "data": {
      "text/html": [
       "<div>\n",
       "<style scoped>\n",
       "    .dataframe tbody tr th:only-of-type {\n",
       "        vertical-align: middle;\n",
       "    }\n",
       "\n",
       "    .dataframe tbody tr th {\n",
       "        vertical-align: top;\n",
       "    }\n",
       "\n",
       "    .dataframe thead th {\n",
       "        text-align: right;\n",
       "    }\n",
       "</style>\n",
       "<table border=\"1\" class=\"dataframe\">\n",
       "  <thead>\n",
       "    <tr style=\"text-align: right;\">\n",
       "      <th></th>\n",
       "      <th>Tipo de vehículo</th>\n",
       "      <th>Sanción con multa equivalente en veces la Unidad de Medida y Actualización vigente</th>\n",
       "      <th>Sanción mínima</th>\n",
       "      <th>Sanción media</th>\n",
       "      <th>Sanción máxima</th>\n",
       "      <th>Sanción con puntos de penalización en licencia para conducir</th>\n",
       "    </tr>\n",
       "  </thead>\n",
       "  <tbody>\n",
       "    <tr>\n",
       "      <th>0</th>\n",
       "      <td>de uso particular.</td>\n",
       "      <td></td>\n",
       "      <td></td>\n",
       "      <td></td>\n",
       "      <td></td>\n",
       "      <td></td>\n",
       "    </tr>\n",
       "    <tr>\n",
       "      <th>1</th>\n",
       "      <td>Conductores de vehículos de transporte de carga.</td>\n",
       "      <td>40 a 60 veces</td>\n",
       "      <td>40 veces</td>\n",
       "      <td>50 veces</td>\n",
       "      <td>60 veces</td>\n",
       "      <td>3 puntos</td>\n",
       "    </tr>\n",
       "    <tr>\n",
       "      <th>2</th>\n",
       "      <td>Conductores de vehículos de transporte público...</td>\n",
       "      <td>60 a 80 veces</td>\n",
       "      <td>60 veces</td>\n",
       "      <td>70 veces</td>\n",
       "      <td>80 veces</td>\n",
       "      <td>3 puntos</td>\n",
       "    </tr>\n",
       "  </tbody>\n",
       "</table>\n",
       "</div>"
      ],
      "text/plain": [
       "                                    Tipo de vehículo  \\\n",
       "0                                 de uso particular.   \n",
       "1   Conductores de vehículos de transporte de carga.   \n",
       "2  Conductores de vehículos de transporte público...   \n",
       "\n",
       "  Sanción con multa equivalente en veces la Unidad de Medida y Actualización vigente  \\\n",
       "0                                                                                      \n",
       "1                                      40 a 60 veces                                   \n",
       "2                                      60 a 80 veces                                   \n",
       "\n",
       "  Sanción mínima Sanción media Sanción máxima  \\\n",
       "0                                               \n",
       "1       40 veces      50 veces       60 veces   \n",
       "2       60 veces      70 veces       80 veces   \n",
       "\n",
       "  Sanción con puntos de penalización en licencia para conducir  \n",
       "0                                                               \n",
       "1                                           3 puntos            \n",
       "2                                           3 puntos            "
      ]
     },
     "execution_count": 187,
     "metadata": {},
     "output_type": "execute_result"
    }
   ],
   "source": [
    "df_2"
   ]
  },
  {
   "cell_type": "code",
   "execution_count": 188,
   "id": "0e0a85a1-cc9b-4660-b04e-71233e73b226",
   "metadata": {},
   "outputs": [
    {
     "data": {
      "text/html": [
       "<div>\n",
       "<style scoped>\n",
       "    .dataframe tbody tr th:only-of-type {\n",
       "        vertical-align: middle;\n",
       "    }\n",
       "\n",
       "    .dataframe tbody tr th {\n",
       "        vertical-align: top;\n",
       "    }\n",
       "\n",
       "    .dataframe thead th {\n",
       "        text-align: right;\n",
       "    }\n",
       "</style>\n",
       "<table border=\"1\" class=\"dataframe\">\n",
       "  <thead>\n",
       "    <tr style=\"text-align: right;\">\n",
       "      <th></th>\n",
       "      <th>Puntos restantes</th>\n",
       "      <th>Sanción</th>\n",
       "    </tr>\n",
       "  </thead>\n",
       "  <tbody>\n",
       "    <tr>\n",
       "      <th>0</th>\n",
       "      <td>9 o primera infracción</td>\n",
       "      <td>Amonestación</td>\n",
       "    </tr>\n",
       "    <tr>\n",
       "      <th>1</th>\n",
       "      <td>8 o segunda infracción</td>\n",
       "      <td>Curso en línea básico</td>\n",
       "    </tr>\n",
       "    <tr>\n",
       "      <th>2</th>\n",
       "      <td>7</td>\n",
       "      <td>Curso en línea intermedio</td>\n",
       "    </tr>\n",
       "    <tr>\n",
       "      <th>3</th>\n",
       "      <td>6</td>\n",
       "      <td>Curso en línea avanzado</td>\n",
       "    </tr>\n",
       "    <tr>\n",
       "      <th>4</th>\n",
       "      <td>5</td>\n",
       "      <td>Taller de sensibilización presencial</td>\n",
       "    </tr>\n",
       "    <tr>\n",
       "      <th>5</th>\n",
       "      <td>4</td>\n",
       "      <td>2 horas de trabajo en favor de la comunidad</td>\n",
       "    </tr>\n",
       "  </tbody>\n",
       "</table>\n",
       "</div>"
      ],
      "text/plain": [
       "         Puntos restantes                                      Sanción\n",
       "0  9 o primera infracción                                 Amonestación\n",
       "1  8 o segunda infracción                        Curso en línea básico\n",
       "2                       7                    Curso en línea intermedio\n",
       "3                       6                      Curso en línea avanzado\n",
       "4                       5         Taller de sensibilización presencial\n",
       "5                       4  2 horas de trabajo en favor de la comunidad"
      ]
     },
     "execution_count": 188,
     "metadata": {},
     "output_type": "execute_result"
    }
   ],
   "source": [
    "df_3"
   ]
  },
  {
   "cell_type": "code",
   "execution_count": 189,
   "id": "9d1692e3-add2-4c7e-99e3-c050aac0e14a",
   "metadata": {},
   "outputs": [
    {
     "data": {
      "text/html": [
       "<div>\n",
       "<style scoped>\n",
       "    .dataframe tbody tr th:only-of-type {\n",
       "        vertical-align: middle;\n",
       "    }\n",
       "\n",
       "    .dataframe tbody tr th {\n",
       "        vertical-align: top;\n",
       "    }\n",
       "\n",
       "    .dataframe thead th {\n",
       "        text-align: right;\n",
       "    }\n",
       "</style>\n",
       "<table border=\"1\" class=\"dataframe\">\n",
       "  <thead>\n",
       "    <tr style=\"text-align: right;\">\n",
       "      <th></th>\n",
       "      <th>Puntos restantes</th>\n",
       "      <th>Sanción</th>\n",
       "    </tr>\n",
       "  </thead>\n",
       "  <tbody>\n",
       "    <tr>\n",
       "      <th>0</th>\n",
       "      <td>3</td>\n",
       "      <td>2 horas de trabajo en favor de la comunidad</td>\n",
       "    </tr>\n",
       "    <tr>\n",
       "      <th>1</th>\n",
       "      <td>2</td>\n",
       "      <td>2 horas de trabajo en favor de la comunidad</td>\n",
       "    </tr>\n",
       "    <tr>\n",
       "      <th>2</th>\n",
       "      <td>1</td>\n",
       "      <td>2 horas de trabajo en favor de la comunidad</td>\n",
       "    </tr>\n",
       "  </tbody>\n",
       "</table>\n",
       "</div>"
      ],
      "text/plain": [
       "  Puntos restantes                                      Sanción\n",
       "0                3  2 horas de trabajo en favor de la comunidad\n",
       "1                2  2 horas de trabajo en favor de la comunidad\n",
       "2                1  2 horas de trabajo en favor de la comunidad"
      ]
     },
     "execution_count": 189,
     "metadata": {},
     "output_type": "execute_result"
    }
   ],
   "source": [
    "df_4"
   ]
  },
  {
   "cell_type": "code",
   "execution_count": 190,
   "id": "d11b0662-4595-45c4-a0db-5f5949873dd6",
   "metadata": {},
   "outputs": [
    {
     "data": {
      "text/html": [
       "<div>\n",
       "<style scoped>\n",
       "    .dataframe tbody tr th:only-of-type {\n",
       "        vertical-align: middle;\n",
       "    }\n",
       "\n",
       "    .dataframe tbody tr th {\n",
       "        vertical-align: top;\n",
       "    }\n",
       "\n",
       "    .dataframe thead th {\n",
       "        text-align: right;\n",
       "    }\n",
       "</style>\n",
       "<table border=\"1\" class=\"dataframe\">\n",
       "  <thead>\n",
       "    <tr style=\"text-align: right;\">\n",
       "      <th></th>\n",
       "      <th>Tipo de asiento</th>\n",
       "      <th>Ubicación</th>\n",
       "      <th>Grupo</th>\n",
       "      <th>Rango de peso</th>\n",
       "      <th>Rango aproximado de edad</th>\n",
       "    </tr>\n",
       "  </thead>\n",
       "  <tbody>\n",
       "    <tr>\n",
       "      <th>0</th>\n",
       "      <td></td>\n",
       "      <td>De espaldas</td>\n",
       "      <td>0</td>\n",
       "      <td>0 – 10 kg</td>\n",
       "      <td>Nacimiento y hasta los 6 - 9 meses</td>\n",
       "    </tr>\n",
       "    <tr>\n",
       "      <th>1</th>\n",
       "      <td></td>\n",
       "      <td>De espaldas</td>\n",
       "      <td>0+</td>\n",
       "      <td>0 – 13 kg</td>\n",
       "      <td>Nacimiento y hasta los 12 - 15 meses</td>\n",
       "    </tr>\n",
       "    <tr>\n",
       "      <th>2</th>\n",
       "      <td></td>\n",
       "      <td>De frente</td>\n",
       "      <td>1</td>\n",
       "      <td>9 – 18 kg</td>\n",
       "      <td>9 meses – 4 años</td>\n",
       "    </tr>\n",
       "    <tr>\n",
       "      <th>3</th>\n",
       "      <td></td>\n",
       "      <td>De frente</td>\n",
       "      <td>2</td>\n",
       "      <td>15 – 25 kg</td>\n",
       "      <td>4 – 6 años</td>\n",
       "    </tr>\n",
       "    <tr>\n",
       "      <th>4</th>\n",
       "      <td></td>\n",
       "      <td>Asiento elevador</td>\n",
       "      <td>3</td>\n",
       "      <td>22 – 36 kg</td>\n",
       "      <td>6 – 11 años</td>\n",
       "    </tr>\n",
       "  </tbody>\n",
       "</table>\n",
       "</div>"
      ],
      "text/plain": [
       "  Tipo de asiento         Ubicación Grupo Rango de peso  \\\n",
       "0                       De espaldas     0     0 – 10 kg   \n",
       "1                       De espaldas    0+     0 – 13 kg   \n",
       "2                         De frente     1     9 – 18 kg   \n",
       "3                         De frente     2    15 – 25 kg   \n",
       "4                  Asiento elevador     3    22 – 36 kg   \n",
       "\n",
       "               Rango aproximado de edad  \n",
       "0    Nacimiento y hasta los 6 - 9 meses  \n",
       "1  Nacimiento y hasta los 12 - 15 meses  \n",
       "2                      9 meses – 4 años  \n",
       "3                            4 – 6 años  \n",
       "4                           6 – 11 años  "
      ]
     },
     "execution_count": 190,
     "metadata": {},
     "output_type": "execute_result"
    }
   ],
   "source": [
    "df_5"
   ]
  },
  {
   "cell_type": "code",
   "execution_count": 195,
   "id": "d747947d-ffc1-44cd-a914-9cc0c463f0b2",
   "metadata": {},
   "outputs": [],
   "source": [
    "df_12 = pd.concat([df,df_2],axis=0,ignore_index=True)\n",
    "df_34 = pd.concat([df_3,df_4],axis=0,ignore_index=True)"
   ]
  },
  {
   "cell_type": "code",
   "execution_count": 194,
   "id": "404c19cc-af64-4644-937b-b98325874c17",
   "metadata": {},
   "outputs": [
    {
     "data": {
      "text/html": [
       "<div>\n",
       "<style scoped>\n",
       "    .dataframe tbody tr th:only-of-type {\n",
       "        vertical-align: middle;\n",
       "    }\n",
       "\n",
       "    .dataframe tbody tr th {\n",
       "        vertical-align: top;\n",
       "    }\n",
       "\n",
       "    .dataframe thead th {\n",
       "        text-align: right;\n",
       "    }\n",
       "</style>\n",
       "<table border=\"1\" class=\"dataframe\">\n",
       "  <thead>\n",
       "    <tr style=\"text-align: right;\">\n",
       "      <th></th>\n",
       "      <th>Tipo de vehículo</th>\n",
       "      <th>Sanción con multa equivalente en veces la Unidad de Medida y Actualización vigente</th>\n",
       "      <th>Sanción mínima</th>\n",
       "      <th>Sanción media</th>\n",
       "      <th>Sanción máxima</th>\n",
       "      <th>Sanción con puntos de penalización en licencia para conducir</th>\n",
       "    </tr>\n",
       "  </thead>\n",
       "  <tbody>\n",
       "    <tr>\n",
       "      <th>0</th>\n",
       "      <td>Conductores de vehículos</td>\n",
       "      <td>10 a 20 veces</td>\n",
       "      <td>10 veces</td>\n",
       "      <td>15 veces</td>\n",
       "      <td>20 veces</td>\n",
       "      <td>3 puntos</td>\n",
       "    </tr>\n",
       "    <tr>\n",
       "      <th>1</th>\n",
       "      <td>de uso particular.</td>\n",
       "      <td></td>\n",
       "      <td></td>\n",
       "      <td></td>\n",
       "      <td></td>\n",
       "      <td></td>\n",
       "    </tr>\n",
       "    <tr>\n",
       "      <th>2</th>\n",
       "      <td>Conductores de vehículos de transporte de carga.</td>\n",
       "      <td>40 a 60 veces</td>\n",
       "      <td>40 veces</td>\n",
       "      <td>50 veces</td>\n",
       "      <td>60 veces</td>\n",
       "      <td>3 puntos</td>\n",
       "    </tr>\n",
       "    <tr>\n",
       "      <th>3</th>\n",
       "      <td>Conductores de vehículos de transporte público...</td>\n",
       "      <td>60 a 80 veces</td>\n",
       "      <td>60 veces</td>\n",
       "      <td>70 veces</td>\n",
       "      <td>80 veces</td>\n",
       "      <td>3 puntos</td>\n",
       "    </tr>\n",
       "  </tbody>\n",
       "</table>\n",
       "</div>"
      ],
      "text/plain": [
       "                                    Tipo de vehículo  \\\n",
       "0                           Conductores de vehículos   \n",
       "1                                 de uso particular.   \n",
       "2   Conductores de vehículos de transporte de carga.   \n",
       "3  Conductores de vehículos de transporte público...   \n",
       "\n",
       "  Sanción con multa equivalente en veces la Unidad de Medida y Actualización vigente  \\\n",
       "0                                      10 a 20 veces                                   \n",
       "1                                                                                      \n",
       "2                                      40 a 60 veces                                   \n",
       "3                                      60 a 80 veces                                   \n",
       "\n",
       "  Sanción mínima Sanción media Sanción máxima  \\\n",
       "0       10 veces      15 veces       20 veces   \n",
       "1                                               \n",
       "2       40 veces      50 veces       60 veces   \n",
       "3       60 veces      70 veces       80 veces   \n",
       "\n",
       "  Sanción con puntos de penalización en licencia para conducir  \n",
       "0                                           3 puntos            \n",
       "1                                                               \n",
       "2                                           3 puntos            \n",
       "3                                           3 puntos            "
      ]
     },
     "execution_count": 194,
     "metadata": {},
     "output_type": "execute_result"
    }
   ],
   "source": [
    "df_12"
   ]
  },
  {
   "cell_type": "code",
   "execution_count": 196,
   "id": "4a422d74-767e-45a5-8eee-4178c72dc100",
   "metadata": {},
   "outputs": [
    {
     "data": {
      "text/html": [
       "<div>\n",
       "<style scoped>\n",
       "    .dataframe tbody tr th:only-of-type {\n",
       "        vertical-align: middle;\n",
       "    }\n",
       "\n",
       "    .dataframe tbody tr th {\n",
       "        vertical-align: top;\n",
       "    }\n",
       "\n",
       "    .dataframe thead th {\n",
       "        text-align: right;\n",
       "    }\n",
       "</style>\n",
       "<table border=\"1\" class=\"dataframe\">\n",
       "  <thead>\n",
       "    <tr style=\"text-align: right;\">\n",
       "      <th></th>\n",
       "      <th>Puntos restantes</th>\n",
       "      <th>Sanción</th>\n",
       "    </tr>\n",
       "  </thead>\n",
       "  <tbody>\n",
       "    <tr>\n",
       "      <th>0</th>\n",
       "      <td>9 o primera infracción</td>\n",
       "      <td>Amonestación</td>\n",
       "    </tr>\n",
       "    <tr>\n",
       "      <th>1</th>\n",
       "      <td>8 o segunda infracción</td>\n",
       "      <td>Curso en línea básico</td>\n",
       "    </tr>\n",
       "    <tr>\n",
       "      <th>2</th>\n",
       "      <td>7</td>\n",
       "      <td>Curso en línea intermedio</td>\n",
       "    </tr>\n",
       "    <tr>\n",
       "      <th>3</th>\n",
       "      <td>6</td>\n",
       "      <td>Curso en línea avanzado</td>\n",
       "    </tr>\n",
       "    <tr>\n",
       "      <th>4</th>\n",
       "      <td>5</td>\n",
       "      <td>Taller de sensibilización presencial</td>\n",
       "    </tr>\n",
       "    <tr>\n",
       "      <th>5</th>\n",
       "      <td>4</td>\n",
       "      <td>2 horas de trabajo en favor de la comunidad</td>\n",
       "    </tr>\n",
       "    <tr>\n",
       "      <th>6</th>\n",
       "      <td>3</td>\n",
       "      <td>2 horas de trabajo en favor de la comunidad</td>\n",
       "    </tr>\n",
       "    <tr>\n",
       "      <th>7</th>\n",
       "      <td>2</td>\n",
       "      <td>2 horas de trabajo en favor de la comunidad</td>\n",
       "    </tr>\n",
       "    <tr>\n",
       "      <th>8</th>\n",
       "      <td>1</td>\n",
       "      <td>2 horas de trabajo en favor de la comunidad</td>\n",
       "    </tr>\n",
       "  </tbody>\n",
       "</table>\n",
       "</div>"
      ],
      "text/plain": [
       "         Puntos restantes                                      Sanción\n",
       "0  9 o primera infracción                                 Amonestación\n",
       "1  8 o segunda infracción                        Curso en línea básico\n",
       "2                       7                    Curso en línea intermedio\n",
       "3                       6                      Curso en línea avanzado\n",
       "4                       5         Taller de sensibilización presencial\n",
       "5                       4  2 horas de trabajo en favor de la comunidad\n",
       "6                       3  2 horas de trabajo en favor de la comunidad\n",
       "7                       2  2 horas de trabajo en favor de la comunidad\n",
       "8                       1  2 horas de trabajo en favor de la comunidad"
      ]
     },
     "execution_count": 196,
     "metadata": {},
     "output_type": "execute_result"
    }
   ],
   "source": [
    "df_34"
   ]
  },
  {
   "cell_type": "code",
   "execution_count": 198,
   "id": "0138c914-5ae3-4689-ace5-55cd5dcc0868",
   "metadata": {},
   "outputs": [
    {
     "name": "stdout",
     "output_type": "stream",
     "text": [
      "         Puntos restantes                                      Sanción\n",
      "0  9 o primera infracción                                 Amonestación\n",
      "1  8 o segunda infracción                        Curso en línea básico\n",
      "2                       7                    Curso en línea intermedio\n",
      "3                       6                      Curso en línea avanzado\n",
      "4                       5         Taller de sensibilización presencial\n",
      "5                       4  2 horas de trabajo en favor de la comunidad\n",
      "6                       3  2 horas de trabajo en favor de la comunidad\n",
      "7                       2  2 horas de trabajo en favor de la comunidad\n",
      "8                       1  2 horas de trabajo en favor de la comunidad\n"
     ]
    }
   ],
   "source": [
    "print(df_34.to_string())"
   ]
  },
  {
   "cell_type": "code",
   "execution_count": 201,
   "id": "c78070da-15bb-4260-8c05-8e3274592934",
   "metadata": {},
   "outputs": [
    {
     "name": "stdout",
     "output_type": "stream",
     "text": [
      " \n",
      " \n",
      "III.  Prioridad de uso del arroyo vehicular, cuando: \n",
      " \n",
      "a)  No existan aceras en la vía; en caso de existir acotamiento o vías ciclistas, los peatones podrán \n",
      "circular del lado derecho de éstas; a falta de estas opciones transitarán por el extremo de la \n",
      "vía y en sentido contrario al flujo vehicular; \n",
      " \n",
      "b)  Las aceras estén impedidas para el libre tránsito peatonal por consecuencia de obras públicas \n",
      "o privadas, eventos que interfieran de forma temporal la circulación o cuando el flujo de \n",
      "peatones supere la capacidad de la acera; la autoridad se asegurará de la implementación de \n",
      "espacios  seguros  para  los  transeúntes;  mismas  que  estarán  delimitadas,  confinadas  y \n",
      "señalizadas, conforme a la legislación aplicable y por parte de quien genere las anomalías en \n",
      "la vía; \n",
      " \n",
      "c)  Transiten en comitivas organizadas, procesiones o filas escolares, debiendo circular en el \n",
      "sentido de la vía; \n",
      " \n",
      "d)  Remolquen algún objeto que impida la libre circulación de los demás peatones sobre la acera, \n",
      "debiendo circular en el primer carril y en el sentido de la vía; en caso que transiten en ciclovías \n",
      "y carriles preferenciales ciclistas deberán hacerlo pegado a la acera y en el sentido de la \n",
      "circulación ciclista; \n",
      " \n",
      "e)  Se utilicen vehículos recreativos o ayudas técnicas, debiendo transitar por el primer carril de \n",
      "circulación de la vía; en estos casos, también se podrá hacer uso del acotamiento y vías \n",
      "ciclistas. \n",
      " \n",
      "IV.  Preferencia de paso cuando transiten por la acera y algún conductor deba cruzarla para entrar o \n",
      "salir de un predio o estacionamiento; y \n",
      " \n",
      "V.  Prioridad de uso en las calles de prioridad peatonal, dónde los peatones podrán circular en todo \n",
      "lo ancho de la vía y en cualquier sentido. \n",
      " \n",
      "El conductor de un vehículo no motorizado que no respete la preferencia de paso y/o la prioridad de uso \n",
      "de los peatones de acuerdo a lo dispuesto en este artículo será amonestado y/o apercibido verbalmente \n",
      "por los agentes y/o agentes autorizados para infraccionar, y orientado a conducirse de conformidad a las \n",
      "disposiciones aplicables. \n",
      " \n",
      "El conductor de un vehículo motorizado que no respete la preferencia de paso y/o la prioridad de uso de \n",
      "los peatones de acuerdo a lo dispuesto en este artículo será sancionado con base en la siguiente tabla:  \n",
      " \n",
      "Sanción con \n",
      "multa  Sanción con \n",
      "equivalente  puntos de \n",
      "Tipo de  en veces la  Sanción  Sanción  Sanción  penalización \n",
      "vehículo  Unidad de  mínima  media  máxima  en licencia \n",
      "Medida y  para  \n",
      "Actualización  conducir \n",
      "vigente \n",
      "Conductores   \n",
      "10 a 20 veces  10 veces  15 veces  20 veces \n",
      "de vehículos  3 puntos \n",
      " \n",
      " \n",
      " \n"
     ]
    }
   ],
   "source": [
    "print(alpha[9])"
   ]
  },
  {
   "cell_type": "code",
   "execution_count": 205,
   "id": "cba2b33a-5132-414e-ae92-9d789f98802d",
   "metadata": {},
   "outputs": [
    {
     "data": {
      "text/plain": [
       "' \\n \\nIII.  Prioridad de uso del arroyo vehicular, cuando: \\n \\na)  No existan aceras en la vía; en caso de existir acotamiento o vías ciclistas, los peatones podrán \\ncircular del lado derecho de éstas; a falta de estas opciones transitarán por el extremo de la \\nvía y en sentido contrario al flujo vehicular; \\n \\nb)  Las aceras estén impedidas para el libre tránsito peatonal por consecuencia de obras públicas \\no privadas, eventos que interfieran de forma temporal la circulación o cuando el flujo de \\npeatones supere la capacidad de la acera; la autoridad se asegurará de la implementación de \\nespacios  seguros  para  los  transeúntes;  mismas  que  estarán  delimitadas,  confinadas  y \\nseñalizadas, conforme a la legislación aplicable y por parte de quien genere las anomalías en \\nla vía; \\n \\nc)  Transiten en comitivas organizadas, procesiones o filas escolares, debiendo circular en el \\nsentido de la vía; \\n \\nd)  Remolquen algún objeto que impida la libre circulación de los demás peatones sobre la acera, \\ndebiendo circular en el primer carril y en el sentido de la vía; en caso que transiten en ciclovías \\ny carriles preferenciales ciclistas deberán hacerlo pegado a la acera y en el sentido de la \\ncirculación ciclista; \\n \\ne)  Se utilicen vehículos recreativos o ayudas técnicas, debiendo transitar por el primer carril de \\ncirculación de la vía; en estos casos, también se podrá hacer uso del acotamiento y vías \\nciclistas. \\n \\nIV.  Preferencia de paso cuando transiten por la acera y algún conductor deba cruzarla para entrar o \\nsalir de un predio o estacionamiento; y \\n \\nV.  Prioridad de uso en las calles de prioridad peatonal, dónde los peatones podrán circular en todo \\nlo ancho de la vía y en cualquier sentido. \\n \\nEl conductor de un vehículo no motorizado que no respete la preferencia de paso y/o la prioridad de uso \\nde los peatones de acuerdo a lo dispuesto en este artículo será amonestado y/o apercibido verbalmente \\npor los agentes y/o agentes autorizados para infraccionar, y orientado a conducirse de conformidad a las \\ndisposiciones aplicables. \\n \\nEl conductor de un vehículo motorizado que no respete la preferencia de paso y/o la prioridad de uso de \\nlos peatones de acuerdo a lo dispuesto en este artículo será sancionado con base en la siguiente tabla:  \\n \\nSanción con \\nmulta  Sanción con \\nequivalente  puntos de \\nTipo de  en veces la  Sanción  Sanción  Sanción  penalización \\nvehículo  Unidad de  mínima  media  máxima  en licencia \\nMedida y  para  \\nActualización  conducir \\nvigente \\nConductores   \\n10 a 20 veces  10 veces  15 veces  20 veces \\nde vehículos  3 puntos \\n \\n \\n '"
      ]
     },
     "execution_count": 205,
     "metadata": {},
     "output_type": "execute_result"
    }
   ],
   "source": [
    "alpha[9]"
   ]
  },
  {
   "cell_type": "code",
   "execution_count": null,
   "id": "953780a9-786a-466c-91c6-774e397c2605",
   "metadata": {},
   "outputs": [],
   "source": [
    "def rempve_last_paragraph(text):\n",
    "    para = text.split(\"\\n\\n\")"
   ]
  },
  {
   "cell_type": "code",
   "execution_count": 208,
   "id": "f6605f21-42ed-48c9-9d1d-a31ee45446d6",
   "metadata": {
    "collapsed": true,
    "jupyter": {
     "outputs_hidden": true
    }
   },
   "outputs": [
    {
     "data": {
      "text/plain": [
       "['',\n",
       " 'III.  Prioridad de uso del arroyo vehicular, cuando:',\n",
       " 'a)  No existan aceras en la vía; en caso de existir acotamiento o vías ciclistas, los peatones podrán \\ncircular del lado derecho de éstas; a falta de estas opciones transitarán por el extremo de la \\nvía y en sentido contrario al flujo vehicular;',\n",
       " 'b)  Las aceras estén impedidas para el libre tránsito peatonal por consecuencia de obras públicas \\no privadas, eventos que interfieran de forma temporal la circulación o cuando el flujo de \\npeatones supere la capacidad de la acera; la autoridad se asegurará de la implementación de \\nespacios  seguros  para  los  transeúntes;  mismas  que  estarán  delimitadas,  confinadas  y \\nseñalizadas, conforme a la legislación aplicable y por parte de quien genere las anomalías en \\nla vía;',\n",
       " 'c)  Transiten en comitivas organizadas, procesiones o filas escolares, debiendo circular en el \\nsentido de la vía;',\n",
       " 'd)  Remolquen algún objeto que impida la libre circulación de los demás peatones sobre la acera, \\ndebiendo circular en el primer carril y en el sentido de la vía; en caso que transiten en ciclovías \\ny carriles preferenciales ciclistas deberán hacerlo pegado a la acera y en el sentido de la \\ncirculación ciclista;',\n",
       " 'e)  Se utilicen vehículos recreativos o ayudas técnicas, debiendo transitar por el primer carril de \\ncirculación de la vía; en estos casos, también se podrá hacer uso del acotamiento y vías \\nciclistas.',\n",
       " 'IV.  Preferencia de paso cuando transiten por la acera y algún conductor deba cruzarla para entrar o \\nsalir de un predio o estacionamiento; y',\n",
       " 'V.  Prioridad de uso en las calles de prioridad peatonal, dónde los peatones podrán circular en todo \\nlo ancho de la vía y en cualquier sentido.',\n",
       " 'El conductor de un vehículo no motorizado que no respete la preferencia de paso y/o la prioridad de uso \\nde los peatones de acuerdo a lo dispuesto en este artículo será amonestado y/o apercibido verbalmente \\npor los agentes y/o agentes autorizados para infraccionar, y orientado a conducirse de conformidad a las \\ndisposiciones aplicables.',\n",
       " 'El conductor de un vehículo motorizado que no respete la preferencia de paso y/o la prioridad de uso de \\nlos peatones de acuerdo a lo dispuesto en este artículo será sancionado con base en la siguiente tabla: ',\n",
       " 'Sanción con \\nmulta  Sanción con \\nequivalente  puntos de \\nTipo de  en veces la  Sanción  Sanción  Sanción  penalización \\nvehículo  Unidad de  mínima  media  máxima  en licencia \\nMedida y  para  \\nActualización  conducir \\nvigente \\nConductores   \\n10 a 20 veces  10 veces  15 veces  20 veces \\nde vehículos  3 puntos',\n",
       " ' \\n ']"
      ]
     },
     "execution_count": 208,
     "metadata": {},
     "output_type": "execute_result"
    }
   ],
   "source": [
    "alpha[9].split(\" \\n \\n\")"
   ]
  },
  {
   "cell_type": "code",
   "execution_count": 213,
   "id": "492f9bae-d948-4770-b5d8-5d63c227359f",
   "metadata": {},
   "outputs": [],
   "source": [
    "alpha[9] = ' \\n \\n'.join(alpha[9].split(\" \\n \\n\")[:-2])"
   ]
  },
  {
   "cell_type": "code",
   "execution_count": 214,
   "id": "e8bb84f9-52da-4ee0-8349-9c005f2ebe1f",
   "metadata": {},
   "outputs": [
    {
     "data": {
      "text/plain": [
       "' \\n \\nIII.  Prioridad de uso del arroyo vehicular, cuando: \\n \\na)  No existan aceras en la vía; en caso de existir acotamiento o vías ciclistas, los peatones podrán \\ncircular del lado derecho de éstas; a falta de estas opciones transitarán por el extremo de la \\nvía y en sentido contrario al flujo vehicular; \\n \\nb)  Las aceras estén impedidas para el libre tránsito peatonal por consecuencia de obras públicas \\no privadas, eventos que interfieran de forma temporal la circulación o cuando el flujo de \\npeatones supere la capacidad de la acera; la autoridad se asegurará de la implementación de \\nespacios  seguros  para  los  transeúntes;  mismas  que  estarán  delimitadas,  confinadas  y \\nseñalizadas, conforme a la legislación aplicable y por parte de quien genere las anomalías en \\nla vía; \\n \\nc)  Transiten en comitivas organizadas, procesiones o filas escolares, debiendo circular en el \\nsentido de la vía; \\n \\nd)  Remolquen algún objeto que impida la libre circulación de los demás peatones sobre la acera, \\ndebiendo circular en el primer carril y en el sentido de la vía; en caso que transiten en ciclovías \\ny carriles preferenciales ciclistas deberán hacerlo pegado a la acera y en el sentido de la \\ncirculación ciclista; \\n \\ne)  Se utilicen vehículos recreativos o ayudas técnicas, debiendo transitar por el primer carril de \\ncirculación de la vía; en estos casos, también se podrá hacer uso del acotamiento y vías \\nciclistas. \\n \\nIV.  Preferencia de paso cuando transiten por la acera y algún conductor deba cruzarla para entrar o \\nsalir de un predio o estacionamiento; y \\n \\nV.  Prioridad de uso en las calles de prioridad peatonal, dónde los peatones podrán circular en todo \\nlo ancho de la vía y en cualquier sentido. \\n \\nEl conductor de un vehículo no motorizado que no respete la preferencia de paso y/o la prioridad de uso \\nde los peatones de acuerdo a lo dispuesto en este artículo será amonestado y/o apercibido verbalmente \\npor los agentes y/o agentes autorizados para infraccionar, y orientado a conducirse de conformidad a las \\ndisposiciones aplicables. \\n \\nEl conductor de un vehículo motorizado que no respete la preferencia de paso y/o la prioridad de uso de \\nlos peatones de acuerdo a lo dispuesto en este artículo será sancionado con base en la siguiente tabla: '"
      ]
     },
     "execution_count": 214,
     "metadata": {},
     "output_type": "execute_result"
    }
   ],
   "source": [
    "alpha[9]"
   ]
  },
  {
   "cell_type": "code",
   "execution_count": null,
   "id": "ba31f07c-10f5-41e9-95bc-3ea69cea1bf8",
   "metadata": {},
   "outputs": [],
   "source": []
  }
 ],
 "metadata": {
  "kernelspec": {
   "display_name": "Python 3 (ipykernel)",
   "language": "python",
   "name": "python3"
  },
  "language_info": {
   "codemirror_mode": {
    "name": "ipython",
    "version": 3
   },
   "file_extension": ".py",
   "mimetype": "text/x-python",
   "name": "python",
   "nbconvert_exporter": "python",
   "pygments_lexer": "ipython3",
   "version": "3.11.9"
  }
 },
 "nbformat": 4,
 "nbformat_minor": 5
}
