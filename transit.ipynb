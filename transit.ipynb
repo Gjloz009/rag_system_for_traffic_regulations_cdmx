{
 "cells": [
  {
   "cell_type": "markdown",
   "id": "8f6f3303-e60a-471c-b5ef-c773f1cff9a6",
   "metadata": {},
   "source": [
    "# Aqui es la construcción del RAG"
   ]
  },
  {
   "cell_type": "code",
   "execution_count": 49,
   "id": "9ee5cd8e-af04-48b8-acca-5bb836dff654",
   "metadata": {},
   "outputs": [],
   "source": [
    "from elasticsearch import Elasticsearch\n",
    "from openai import OpenAI\n",
    "import json"
   ]
  },
  {
   "cell_type": "code",
   "execution_count": 50,
   "id": "ea595f11-b2b8-4a66-88ec-25b42b6bdaad",
   "metadata": {},
   "outputs": [],
   "source": [
    "#preparing json\n",
    "with open('documents.json', 'rt') as f_in:\n",
    "    docs_raw = json.load(f_in)"
   ]
  },
  {
   "cell_type": "code",
   "execution_count": 14,
   "id": "e759033c-e527-4544-84e8-d5358b83f8c9",
   "metadata": {},
   "outputs": [],
   "source": [
    "#preparing elasticsearch\n",
    "es_client = Elasticsearch('http://localhost:9200') \n",
    "es_client.info()\n",
    "\n",
    "index_settings = {\n",
    "    \"settings\": {\n",
    "        \"number_of_shards\": 1,\n",
    "        \"number_of_replicas\": 0\n",
    "    },\n",
    "    \"mappings\": {\n",
    "        \"properties\": {\n",
    "            \"Título\": {\"type\": \"keyword\"},\n",
    "            \"Artículo\": {\"type\": \"text\"} \n",
    "        }\n",
    "    }\n",
    "}\n",
    "\n",
    "index_name = \"transito-v1\"\n",
    "\n",
    "es_client.indices.delete(index=index_name, ignore_unavailable=True)\n",
    "es_client.indices.create(index=index_name, body=index_settings)\n",
    "\n",
    "for doc in docs_raw:\n",
    "    try:\n",
    "        es_client.index(index=index_name, document=doc)\n",
    "    except Exception as e:\n",
    "        print(e)"
   ]
  },
  {
   "cell_type": "code",
   "execution_count": null,
   "id": "72a3af24-604b-44f8-925d-9f32502ab3a9",
   "metadata": {},
   "outputs": [],
   "source": [
    "#preparing openai\n",
    "client = OpenAI()"
   ]
  },
  {
   "cell_type": "code",
   "execution_count": 21,
   "id": "70997a4c-6786-487f-b586-e7fc4ff08b53",
   "metadata": {},
   "outputs": [],
   "source": [
    "\n",
    "def elastic_search(query_string):\n",
    "    query_const={\n",
    "        \"match\": {\n",
    "            \"Artículo\":query_string\n",
    "        }\n",
    "    }\n",
    "    response = es_client.search(index=index_name,query=query_const)\n",
    "\n",
    "    results_docs = []\n",
    "\n",
    "    for hit in response['hits']['hits']:\n",
    "        results_docs.append(hit['_source'])\n",
    "\n",
    "    return results_docs\n",
    "\n",
    "def build_prompt(query, search_results):\n",
    "    prompt_template = \"\"\"\n",
    "You're an assistant that knows the mexican traffic regulations, more specific the Ciudad de México traffic regulations. \n",
    "Answer the QUESTION based on the CONTEXT from the database, also the answer is need it to be in spanish.\n",
    "\n",
    "QUESTION: {question}\n",
    "\n",
    "CONTEXT: \n",
    "{context}\n",
    "\"\"\".strip()\n",
    "\n",
    "    context = \"\"\n",
    "    \n",
    "    for doc in search_results:\n",
    "         context = context + f\"Título: {doc['Título']}\\nArtículo: {doc['Artículo']}\\n\\n\"\n",
    "    \n",
    "    prompt = prompt_template.format(question=query, context=context).strip()\n",
    "    return prompt\n",
    "\n",
    "def llm(prompt):\n",
    "    response = client.chat.completions.create(\n",
    "        model='gpt-4o-mini',\n",
    "        messages=[{\"role\": \"user\", \"content\": prompt}]\n",
    "    )\n",
    "    \n",
    "    return response.choices[0].message.content\n",
    "\n",
    "def rag(query):\n",
    "    search_results = elastic_search(query)\n",
    "    prompt = build_prompt(query, search_results)\n",
    "    answer = llm(prompt)\n",
    "    return answer"
   ]
  },
  {
   "cell_type": "code",
   "execution_count": 22,
   "id": "899964cb-2546-4b4c-a406-1081c73a5303",
   "metadata": {},
   "outputs": [],
   "source": [
    "respuesta = rag(\"Qué dice el artículo 33\")"
   ]
  },
  {
   "cell_type": "code",
   "execution_count": 24,
   "id": "a219d8dd-b447-4501-998a-670d084fc8f5",
   "metadata": {},
   "outputs": [
    {
     "name": "stdout",
     "output_type": "stream",
     "text": [
      "El artículo 33 de las regulaciones de tránsito en la Ciudad de México establece que, aun cuando el conductor o alguna otra persona esté presente, los vehículos motorizados estacionados podrán ser inmovilizados por un agente autorizado en los siguientes casos:\n",
      "\n",
      "I. Cuando los vehículos se encuentren estacionados en lugares prohibidos, de acuerdo con el artículo 30 en sus fracciones IV, VII, XIII y XVIII.\n",
      "\n",
      "II. Para vehículos con placas foráneas estacionados en zonas con sistemas de cobro por estacionamiento en vía pública, en los siguientes casos:\n",
      "   a) No se haya cubierto la cuota de estacionamiento en el momento de la revisión.\n",
      "   b) Haya concluido el tiempo pagado.\n",
      "   c) Si hay un comprobante de pago, éste no sea visible desde el exterior del vehículo, o el número de placas no coincida, o la fecha del comprobante sea distinta.\n",
      "   d) El vehículo esté fuera de un cajón y/o zona marcada para el estacionamiento, o esté obstruyendo otro cajón o acceso a cochera, exceptuando aquellos vehículos que por dimensiones rebasen el espacio del cajón marcado y hayan cubierto la cuota de estacionamiento por los espacios utilizados.\n",
      "   e) El vehículo no coincida por sus dimensiones o naturaleza con el tipo de vehículo al que está destinado el cajón, según la señalización.\n",
      "   f) El permiso renovable para residentes haya perdido vigencia, no sea visible desde el exterior del vehículo o no coincida con la placa de matrícula.\n",
      "\n",
      "Las sanciones por estas infracciones pueden incluir multas y puntos en la licencia de conducir, y en ciertos casos se utilizará grúa para remitir el vehículo al depósito vehicular.\n"
     ]
    }
   ],
   "source": [
    "print(respuesta)"
   ]
  },
  {
   "cell_type": "code",
   "execution_count": 1,
   "id": "4da0eeec-d117-4669-84ef-fff8bcd2b326",
   "metadata": {},
   "outputs": [],
   "source": [
    "import hashlib"
   ]
  },
  {
   "cell_type": "code",
   "execution_count": 54,
   "id": "57471b50-c5c5-47f4-b737-0f3dfef5ec84",
   "metadata": {},
   "outputs": [],
   "source": [
    "def generate_document_id(doc):\n",
    "    # combined = f\"{doc['course']}-{doc['question']}\"\n",
    "    combined = f\"{doc['Título']}-{doc['Artículo'][:10]}\"\n",
    "    hash_object = hashlib.md5(combined.encode())\n",
    "    hash_hex = hash_object.hexdigest()\n",
    "    document_id = hash_hex[:8]\n",
    "    return document_id"
   ]
  },
  {
   "cell_type": "code",
   "execution_count": 61,
   "id": "e7623730-dde6-4995-bdaa-b4ba9ec531e4",
   "metadata": {},
   "outputs": [],
   "source": [
    "for doc in docs_raw:\n",
    "    doc['id'] = generate_document_id(doc)"
   ]
  },
  {
   "cell_type": "code",
   "execution_count": 70,
   "id": "c2633659-87f5-4fcf-bdfb-9269e823cc8b",
   "metadata": {},
   "outputs": [],
   "source": [
    "import json"
   ]
  },
  {
   "cell_type": "code",
   "execution_count": 75,
   "id": "e5f93841-0c26-4377-8ba9-79a49b901530",
   "metadata": {},
   "outputs": [],
   "source": [
    "with open('documents-with-ids.json', 'wt') as f_out:\n",
    "    json.dump(docs_raw, f_out, indent=2, ensure_ascii=False)"
   ]
  },
  {
   "cell_type": "code",
   "execution_count": 76,
   "id": "a46f9f04-fd64-40da-ad3b-c77b1dbdce2b",
   "metadata": {},
   "outputs": [
    {
     "name": "stdout",
     "output_type": "stream",
     "text": [
      "[\n",
      "  {\n",
      "    \"Título\": \"Título 1\",\n",
      "    \"Artículo\": \"Artículo 1.- El presente reglamento tiene por objeto regular la circulación de peatones y vehículos en la vía \\npública y la seguridad vial en la Ciudad de México.  \\n \\nLas disposiciones de este reglamento son aplicables a peatones, ciclistas, conductores, pasajeros y \\npropietarios de cualquier tipo de vehículo matriculado en el país o el extranjero y que circule en el territorio \\nde la Ciudad de México. En el presente ordenamiento se establecen las normas respecto a sus movimientos \\ny estacionamiento, en observancia a lo establecido en las leyes, reglamentos, acuerdos, decretos y \\nnormatividad local vigente, así como las maniobras de ascenso y descenso de pasajeros o de carga y \\ndescarga. De igual forma, determina las condiciones legales y de seguridad a las que se deben ajustar los \\nvehículos y sus conductores para su circulación, y establece los esquemas de sanciones por la comisión de \\ninfracciones a los preceptos contenidos en el presente reglamento.  \\n \\nCorresponde a la Secretaría de Seguridad Ciudadana aplicar sanciones por infracciones a las disposiciones \\nde este Reglamento. Corresponde a la Consejería Jurídica y de Servicios Legales, mediante la Dirección \\nEjecutiva de Justicia Cívica, supervisar el cumplimiento de los trabajos a favor de la comunidad.  \\n \\nEn todo lo no previsto en el presente ordenamiento se aplicará de manera supletoria las disposiciones \\ncontenidas en la Ley de Movilidad de la Ciudad de México, en la Ley de Cultura Cívica de la Ciudad de México, \\nReglamento de la Ley de Cultura Cívica vigente en la Ciudad de México, en los programas ambientales y de \\nseguridad vial. \\n \\n\",\n",
      "    \"id\": \"d1a97b1e\"\n",
      "  },\n",
      "  {\n",
      "    \"Título\": \"Título 1\",\n",
      "    \"Artículo\": \"Artículo 2.- La aplicación de este reglamento estará basada en los siguientes principios rectores:  \\n \\nI.  La circulación en condiciones de seguridad vial es un derecho, por lo que todas las autoridades en \\nel ámbito de su competencia deben adoptar medidas para garantizar la protección de la vida e \\nintegridad física de las personas, sobre todo de los usuarios vulnerables de la vía; \\n \\nII.  La circulación en la vía pública debe efectuarse con cortesía, por lo que los ciudadanos deben \\nobservar un trato respetuoso hacia el resto de los usuarios de la vía, así como a los agentes y \\npersonal de apoyo vial;  \\n \\nIII.  Se evitará la colocación de objetos que representen un obstáculo a la circulación de vehículos y \\ntránsito de peatones; \\n \\nIV.  Se dará prioridad en la utilización del espacio vial de acuerdo a la siguiente jerarquía \\n \\na)  Peatones; en especial personas con discapacidad y movilidad limitada \\nb)  Ciclistas; \\nc)  Usuarios del servicio de transporte público de pasajeros; \\nd)  Prestadores del servicio de transporte público de pasajeros; \\ne)  Prestadores del servicio de transporte de carga y distribución de mercancías; y \\nf)  Usuarios de transporte particular automotor y motociclistas. \\n \\nV.  Todos los usuarios de la vía, que son los enlistados en la fracción anterior, y en especial los \\nconductores de todo tipo de vehículos motorizados, deben responsabilizarse del riesgo que \\nimplican para los demás usuarios de la vía, por lo que su conducción se realizará de manera \\nprecautoria y respetando las disposiciones del presente Reglamento; y \\n \\nVI.  El uso del automóvil particular deberá ser de manera racional, con el objetivo de mejorar las \\ncondiciones de salud y protección del ambiente. \\n \\nEstos principios deben ser difundidos por autoridades y promotores voluntarios de forma permanente a \\ntravés de campañas, programas y cursos. \\n \\nLa Secretaría en coordinación con Seguridad Ciudadana, diseñará y llevará a cabo campañas permanentes \\nde cultura de movilidad y seguridad vial que garanticen la concientización y respeto a la seguridad de todos \\nlos usuarios de la vía, del mismo modo, se realizarán acciones para inhibir el consumo de alcohol, \\nnarcóticos, estupefacientes o psicotrópicos al conducir. \\n \\n\",\n",
      "    \"id\": \"ebe417a9\"\n"
     ]
    }
   ],
   "source": [
    "\n",
    "!head documents-with-ids.json"
   ]
  },
  {
   "cell_type": "code",
   "execution_count": null,
   "id": "eb86a668-4691-41d8-823b-86fa7634432e",
   "metadata": {},
   "outputs": [],
   "source": [
    "prompt_template = \"\"\"\n",
    "You emulate a person that have questions that are related with the Ciudad de México traffic regulations.\n",
    "Formulate 5 questions ths person might ask based on the Ciudad de México traffic regulations. \n",
    "Should contain the answer to the questions, and the questions should be complete and not too short, also \n",
    "the queastions and answers need to be in spanish.\n",
    "\n",
    "The record:\n",
    "\n",
    "Título: {Título}\n",
    "Pregunta: {Pregunta}\n",
    "Respuesta: {}\n",
    "\n",
    "You emulate a student who's taking our course.\n",
    "Formulate 5 questions this student might ask based on a FAQ record. The record\n",
    "should contain the answer to the questions, and the questions should be complete and not too short.\n",
    "If possible, use as fewer words as possible from the record. \n",
    "\n",
    "The record:\n",
    "\n",
    "section: {section}\n",
    "question: {question}\n",
    "answer: {text}\n",
    "\n",
    "Provide the output in parsable JSON without using code blocks:\n",
    "\n",
    "[\"question1\", \"question2\", ..., \"question5\"]\n",
    "\"\"\".strip()"
   ]
  }
 ],
 "metadata": {
  "kernelspec": {
   "display_name": "Python 3 (ipykernel)",
   "language": "python",
   "name": "python3"
  },
  "language_info": {
   "codemirror_mode": {
    "name": "ipython",
    "version": 3
   },
   "file_extension": ".py",
   "mimetype": "text/x-python",
   "name": "python",
   "nbconvert_exporter": "python",
   "pygments_lexer": "ipython3",
   "version": "3.11.9"
  }
 },
 "nbformat": 4,
 "nbformat_minor": 5
}
